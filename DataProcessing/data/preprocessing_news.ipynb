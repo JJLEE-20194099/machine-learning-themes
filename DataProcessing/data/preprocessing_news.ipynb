{
 "cells": [
  {
   "cell_type": "markdown",
   "source": [
    "## Bài toán\n",
    "Dữ liệu gồm n văn bản phân vào 10 chủ đề khác nhau. Cần biễu diễn mỗi văn bản dưới dạng một vector số thể hiện cho nội dụng của văn bản đó."
   ],
   "metadata": {}
  },
  {
   "cell_type": "markdown",
   "source": [
    "## Mục lục\n",
    "- Load dữ liệu từ thư mục\n",
    "- Loại bỏ các stop words\n",
    "- Sử dụng thư viện để mã hóa TF-IDF cho mỗi văn bản"
   ],
   "metadata": {}
  },
  {
   "cell_type": "markdown",
   "source": [
    "## Phương pháp mã hóa: TF-IDF\r\n",
    "Cho tập gồm $n$ văn bản: $D = \\{d_1, d_2, ... d_n\\}$. Tập từ điển tương ứng được xây dựng từ $n$ văn bản này có độ dài là $m$\r\n",
    "- Xét văn bản $d$ có $|d|$ từ và $t$ là một từ trong $d$. Mã hóa tf-idf của $t$ trong văn bản $d$ được biểu diễn:\r\n",
    "\\begin{equation}\r\n",
    "    \\begin{split}\r\n",
    "        \\text{tf}_{t, d} &= \\frac{f_t}{|d|} \\\\\r\n",
    "        \\text{idf}_{t, d} &= \\log\\frac{n}{n_t}, \\ \\ \\ \\ n_t = |\\{d\\in D: t\\in d\\}| \\\\\r\n",
    "        \\text{tf-idf}_{t d} &= \\text{tf}_{t, d} \\times \\text{idf}_{t, d}\r\n",
    "    \\end{split}\r\n",
    "\\end{equation}\r\n",
    "\r\n",
    "- Khi đó văn bản $d$ được mã hóa là một vector $m$ chiều. Các từ xuất hiện trong d sẽ được thay bằng giá trị tf-idf tương ứng. Các từ không xuất hiện trong $d$ thì thay là 0"
   ],
   "metadata": {}
  },
  {
   "cell_type": "code",
   "execution_count": 6,
   "source": [
    "import os\r\n",
    "import matplotlib.pyplot as plt\r\n",
    "import numpy as np\r\n",
    "\r\n",
    "from sklearn.datasets import load_files\r\n",
    "from pyvi import ViTokenizer\r\n",
    "from sklearn.feature_extraction.text import CountVectorizer\r\n",
    "from sklearn.feature_extraction.text import TfidfTransformer\r\n",
    "from sklearn.pipeline import Pipeline\r\n",
    "\r\n",
    "%matplotlib inline"
   ],
   "outputs": [
    {
     "output_type": "error",
     "ename": "ModuleNotFoundError",
     "evalue": "No module named 'sklearn.datasets.base'",
     "traceback": [
      "\u001b[1;31m---------------------------------------------------------------------------\u001b[0m",
      "\u001b[1;31mModuleNotFoundError\u001b[0m                       Traceback (most recent call last)",
      "\u001b[1;32m~\\AppData\\Local\\Temp/ipykernel_20460/897450269.py\u001b[0m in \u001b[0;36m<module>\u001b[1;34m\u001b[0m\n\u001b[0;32m      3\u001b[0m \u001b[1;32mimport\u001b[0m \u001b[0mnumpy\u001b[0m \u001b[1;32mas\u001b[0m \u001b[0mnp\u001b[0m\u001b[1;33m\u001b[0m\u001b[1;33m\u001b[0m\u001b[0m\n\u001b[0;32m      4\u001b[0m \u001b[1;33m\u001b[0m\u001b[0m\n\u001b[1;32m----> 5\u001b[1;33m \u001b[1;32mfrom\u001b[0m \u001b[0msklearn\u001b[0m\u001b[1;33m.\u001b[0m\u001b[0mdatasets\u001b[0m\u001b[1;33m.\u001b[0m\u001b[0mbase\u001b[0m \u001b[1;32mimport\u001b[0m \u001b[0mload_files\u001b[0m\u001b[1;33m\u001b[0m\u001b[1;33m\u001b[0m\u001b[0m\n\u001b[0m\u001b[0;32m      6\u001b[0m \u001b[1;32mfrom\u001b[0m \u001b[0mpyvi\u001b[0m \u001b[1;32mimport\u001b[0m \u001b[0mViTokenizer\u001b[0m\u001b[1;33m\u001b[0m\u001b[1;33m\u001b[0m\u001b[0m\n\u001b[0;32m      7\u001b[0m \u001b[1;32mfrom\u001b[0m \u001b[0msklearn\u001b[0m\u001b[1;33m.\u001b[0m\u001b[0mfeature_extraction\u001b[0m\u001b[1;33m.\u001b[0m\u001b[0mtext\u001b[0m \u001b[1;32mimport\u001b[0m \u001b[0mCountVectorizer\u001b[0m\u001b[1;33m\u001b[0m\u001b[1;33m\u001b[0m\u001b[0m\n",
      "\u001b[1;31mModuleNotFoundError\u001b[0m: No module named 'sklearn.datasets.base'"
     ]
    }
   ],
   "metadata": {}
  },
  {
   "cell_type": "markdown",
   "source": [
    "## Load dữ liệu từ thư mục\n",
    "\n",
    "Cấu trúc thư mục như sau \n",
    "\n",
    "- data/news_vnexpress/\n",
    "\n",
    "    - Kinh tế: \n",
    "        - bài báo 1.txt \n",
    "        - bài báo 2.txt \n",
    "    - Pháp luật\n",
    "        - bài báo 3.txt \n",
    "        - bài báo 4.txt "
   ],
   "metadata": {}
  },
  {
   "cell_type": "code",
   "execution_count": null,
   "source": [
    "INPUT = 'data/news_vnexpress'\r\n",
    "os.makedirs(\"images\",exist_ok=True)  # thư mục lưu các các hình ảnh trong quá trình huấn luyện và đánh gía"
   ],
   "outputs": [],
   "metadata": {}
  },
  {
   "cell_type": "code",
   "execution_count": 1,
   "source": [
    "# statistics\r\n",
    "print('Các nhãn và số văn bản tương ứng trong dữ liệu')\r\n",
    "print('----------------------------------------------')\r\n",
    "n = 0\r\n",
    "for label in os.listdir(INPUT):\r\n",
    "    print(f'{label}: {len(os.listdir(os.path.join(INPUT, label)))}')\r\n",
    "    n += len(os.listdir(os.path.join(INPUT, label)))\r\n",
    "\r\n",
    "print('-------------------------')\r\n",
    "print(f\"Tổng số văn bản: {n}\")"
   ],
   "outputs": [
    {
     "output_type": "stream",
     "name": "stdout",
     "text": [
      "Các nhãn và số văn bản tương ứng trong dữ liệu\n",
      "----------------------------------------------\n"
     ]
    },
    {
     "output_type": "error",
     "ename": "NameError",
     "evalue": "name 'INPUT' is not defined",
     "traceback": [
      "\u001b[1;31m---------------------------------------------------------------------------\u001b[0m",
      "\u001b[1;31mNameError\u001b[0m                                 Traceback (most recent call last)",
      "\u001b[1;32m~\\AppData\\Local\\Temp/ipykernel_20460/1357802312.py\u001b[0m in \u001b[0;36m<module>\u001b[1;34m\u001b[0m\n\u001b[0;32m      3\u001b[0m \u001b[0mprint\u001b[0m\u001b[1;33m(\u001b[0m\u001b[1;34m'----------------------------------------------'\u001b[0m\u001b[1;33m)\u001b[0m\u001b[1;33m\u001b[0m\u001b[1;33m\u001b[0m\u001b[0m\n\u001b[0;32m      4\u001b[0m \u001b[0mn\u001b[0m \u001b[1;33m=\u001b[0m \u001b[1;36m0\u001b[0m\u001b[1;33m\u001b[0m\u001b[1;33m\u001b[0m\u001b[0m\n\u001b[1;32m----> 5\u001b[1;33m \u001b[1;32mfor\u001b[0m \u001b[0mlabel\u001b[0m \u001b[1;32min\u001b[0m \u001b[0mos\u001b[0m\u001b[1;33m.\u001b[0m\u001b[0mlistdir\u001b[0m\u001b[1;33m(\u001b[0m\u001b[0mINPUT\u001b[0m\u001b[1;33m)\u001b[0m\u001b[1;33m:\u001b[0m\u001b[1;33m\u001b[0m\u001b[1;33m\u001b[0m\u001b[0m\n\u001b[0m\u001b[0;32m      6\u001b[0m     \u001b[0mprint\u001b[0m\u001b[1;33m(\u001b[0m\u001b[1;34mf'{label}: {len(os.listdir(os.path.join(INPUT, label)))}'\u001b[0m\u001b[1;33m)\u001b[0m\u001b[1;33m\u001b[0m\u001b[1;33m\u001b[0m\u001b[0m\n\u001b[0;32m      7\u001b[0m     \u001b[0mn\u001b[0m \u001b[1;33m+=\u001b[0m \u001b[0mlen\u001b[0m\u001b[1;33m(\u001b[0m\u001b[0mos\u001b[0m\u001b[1;33m.\u001b[0m\u001b[0mlistdir\u001b[0m\u001b[1;33m(\u001b[0m\u001b[0mos\u001b[0m\u001b[1;33m.\u001b[0m\u001b[0mpath\u001b[0m\u001b[1;33m.\u001b[0m\u001b[0mjoin\u001b[0m\u001b[1;33m(\u001b[0m\u001b[0mINPUT\u001b[0m\u001b[1;33m,\u001b[0m \u001b[0mlabel\u001b[0m\u001b[1;33m)\u001b[0m\u001b[1;33m)\u001b[0m\u001b[1;33m)\u001b[0m\u001b[1;33m\u001b[0m\u001b[1;33m\u001b[0m\u001b[0m\n",
      "\u001b[1;31mNameError\u001b[0m: name 'INPUT' is not defined"
     ]
    }
   ],
   "metadata": {}
  },
  {
   "cell_type": "code",
   "execution_count": null,
   "source": [
    "# load data\r\n",
    "data_train = load_files(container_path=INPUT, encoding=\"utf-8\")\r\n",
    "print('mapping:')\r\n",
    "for i in range(len(data_train.target_names)):\r\n",
    "    print(f'{data_train.target_names[i]} - {i}')\r\n",
    "\r\n",
    "print('--------------------------')\r\n",
    "print(data_train.filenames[0:1])\r\n",
    "# print(data_train.data[0:1])\r\n",
    "print(data_train.target[0:1])\r\n",
    "print(data_train.data[0:1])\r\n",
    "\r\n",
    "print(\"\\nTổng số  văn bản: {}\" .format( len(data_train.filenames)))"
   ],
   "outputs": [],
   "metadata": {}
  },
  {
   "cell_type": "markdown",
   "source": [
    "## Chuyển dữ liệu dạng text về ma trận (n x m) bằng TF-IDF"
   ],
   "metadata": {}
  },
  {
   "cell_type": "code",
   "execution_count": null,
   "source": [
    "# load dữ liệu các stopwords \r\n",
    "with open(\"data/vietnamese-stopwords.txt\") as f:\r\n",
    "    stopwords = f.readlines()\r\n",
    "stopwords = [x.strip().replace(\" \", \"_\") for x in stopwords] \r\n",
    "print(f\"Số lượng stopwords: {len(stopwords)}\")\r\n",
    "print(stopwords[:10])\r\n",
    "\r\n",
    "# Chuyển hoá dữ liệu text về dạng vector TF \r\n",
    "#     - loại bỏ từ dừng\r\n",
    "#     - sinh từ điển\r\n",
    "module_count_vector = CountVectorizer(stop_words=stopwords)\r\n",
    "model_rf_preprocess = Pipeline([('vect', module_count_vector),\r\n",
    "                    ('tfidf', TfidfTransformer()),\r\n",
    "                    ])\r\n",
    "# Hàm thực hiện chuyển đổi dữ liệu text thành dữ liệu số dạng ma trận \r\n",
    "# Input: Dữ liệu 2 chiều dạng numpy.array, mảng nhãn id dạng numpy.array \r\n",
    "data_preprocessed = model_rf_preprocess.fit_transform(data_train.data, data_train.target)\r\n",
    "\r\n",
    "print(f\"\\nSố lượng từ trong từ điển: {len(module_count_vector.vocabulary_)}\")\r\n",
    "print(f\"Kích thước dữ liệu sau khi xử lý: {data_preprocessed.shape}\")\r\n",
    "print(f\"Kích thước nhãn tương ứng: {data_train.target.shape}\")"
   ],
   "outputs": [],
   "metadata": {}
  },
  {
   "cell_type": "code",
   "execution_count": null,
   "source": [
    "X = data_preprocessed\r\n",
    "Y = data_train.target"
   ],
   "outputs": [],
   "metadata": {}
  },
  {
   "cell_type": "code",
   "execution_count": null,
   "source": [
    "X.shape, Y.shape"
   ],
   "outputs": [],
   "metadata": {}
  },
  {
   "cell_type": "code",
   "execution_count": null,
   "source": [
    "print(X[100].toarray())\r\n",
    "print(Y[100])"
   ],
   "outputs": [],
   "metadata": {}
  },
  {
   "cell_type": "code",
   "execution_count": null,
   "source": [
    "sum(sum(X[100].toarray() != 0))"
   ],
   "outputs": [],
   "metadata": {}
  },
  {
   "cell_type": "code",
   "execution_count": null,
   "source": [
    "print(X[100])"
   ],
   "outputs": [],
   "metadata": {}
  },
  {
   "cell_type": "code",
   "execution_count": null,
   "source": [],
   "outputs": [],
   "metadata": {}
  }
 ],
 "metadata": {
  "kernelspec": {
   "name": "python3",
   "display_name": "Python 3.9.7 64-bit"
  },
  "language_info": {
   "codemirror_mode": {
    "name": "ipython",
    "version": 3
   },
   "file_extension": ".py",
   "mimetype": "text/x-python",
   "name": "python",
   "nbconvert_exporter": "python",
   "pygments_lexer": "ipython3",
   "version": "3.9.7"
  },
  "interpreter": {
   "hash": "ac59ebe37160ed0dfa835113d9b8498d9f09ceb179beaac4002f036b9467c963"
  }
 },
 "nbformat": 4,
 "nbformat_minor": 4
}